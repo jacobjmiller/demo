{
 "cells": [
  {
   "cell_type": "code",
   "execution_count": 61,
   "metadata": {},
   "outputs": [],
   "source": [
    "def anagrams(input_string):\n",
    "\n",
    "    def histogram(word):\n",
    "\n",
    "        \"\"\" \n",
    "        input is a list of strings and function returns a dictionary with each string \n",
    "        being a key and the values being number of times they appear in the list\n",
    "        \"\"\"\n",
    "    \n",
    "        number_dict = dict()\n",
    "\n",
    "        for letter in word:\n",
    "            if word.count(letter) > 1:\n",
    "                number_dict[letter] = word.count(letter)\n",
    "            else:\n",
    "                number_dict[letter] = 1\n",
    "\n",
    "        return number_dict\n",
    "\n",
    "    read_file = open('words.txt')\n",
    "    write_file = open('output.txt', 'w')\n",
    "\n",
    "    for line in read_file:\n",
    "\n",
    "        line = line.strip()\n",
    "\n",
    "        if histogram(input_string) == histogram(line):\n",
    "\n",
    "            write_file.write(line + \"\\n\")\n",
    "    \n",
    "        else:\n",
    "            continue"
   ]
  },
  {
   "cell_type": "code",
   "execution_count": 62,
   "metadata": {},
   "outputs": [],
   "source": [
    "anagrams(\"pots\")"
   ]
  },
  {
   "cell_type": "code",
   "execution_count": 58,
   "metadata": {},
   "outputs": [],
   "source": [
    "def heteropalindromes():\n",
    "\n",
    "    \"\"\"\n",
    "    scans through text file of words to find if each word has a palindrome that \n",
    "    isn't itself and prints them into a set of tuples\n",
    "    \"\"\"\n",
    "    \n",
    "    word_set = set(line.strip() for line in open('words.txt'))\n",
    "    hetero_set = set()\n",
    "\n",
    "    for word in word_set:\n",
    "        \n",
    "        word_reverse = word[::-1]\n",
    "\n",
    "        if word in hetero_set:\n",
    "\n",
    "            continue\n",
    "        \n",
    "        elif word_reverse in word_set and word_reverse != word:\n",
    "\n",
    "            tup = tuple([str(word)] + [str(word_reverse)])\n",
    "            \n",
    "            hetero_set.add(tup)\n",
    "           \n",
    "        else:\n",
    "\n",
    "            continue\n",
    "\n",
    "    print(hetero_set)"
   ]
  },
  {
   "cell_type": "code",
   "execution_count": 59,
   "metadata": {},
   "outputs": [
    {
     "name": "stdout",
     "output_type": "stream",
     "text": [
      "{('rail', 'liar'), ('dart', 'trad'), ('gat', 'tag'), ('bis', 'sib'), ('port', 'trop'), ('mir', 'rim'), ('pees', 'seep'), ('poons', 'snoop'), ('namer', 'reman'), ('nema', 'amen'), ('bard', 'drab'), ('oohs', 'shoo'), ('nut', 'tun'), ('loot', 'tool'), ('snot', 'tons'), ('stool', 'loots'), ('rial', 'lair'), ('bus', 'sub'), ('bur', 'rub'), ('redia', 'aider'), ('get', 'teg'), ('leud', 'duel'), ('drub', 'burd'), ('scud', 'ducs'), ('seam', 'maes'), ('trad', 'dart'), ('pool', 'loop'), ('nimrod', 'dormin'), ('fires', 'serif'), ('neve', 'even'), ('looter', 'retool'), ('got', 'tog'), ('darb', 'brad'), ('dinar', 'ranid'), ('nom', 'mon'), ('peed', 'deep'), ('door', 'rood'), ('redes', 'seder'), ('sedile', 'elides'), ('sleek', 'keels'), ('pows', 'swop'), ('bird', 'drib'), ('lotos', 'sotol'), ('seton', 'notes'), ('dot', 'tod'), ('til', 'lit'), ('ray', 'yar'), ('nit', 'tin'), ('even', 'neve'), ('nab', 'ban'), ('remeet', 'teemer'), ('nap', 'pan'), ('stow', 'wots'), ('guns', 'snug'), ('pans', 'snap'), ('depot', 'toped'), ('bin', 'nib'), ('ogre', 'ergo'), ('stun', 'nuts'), ('drawer', 'reward'), ('reed', 'deer'), ('neb', 'ben'), ('sate', 'etas'), ('dels', 'sled'), ('tressed', 'dessert'), ('steels', 'sleets'), ('mug', 'gum'), ('gab', 'bag'), ('mac', 'cam'), ('sag', 'gas'), ('reman', 'namer'), ('er', 're'), ('wen', 'new'), ('pad', 'dap'), ('spay', 'yaps'), ('sirra', 'arris'), ('keep', 'peek'), ('rees', 'seer'), ('tram', 'mart'), ('ma', 'am'), ('livre', 'ervil'), ('seme', 'emes'), ('denim', 'mined'), ('lair', 'rial'), ('reflet', 'telfer'), ('trop', 'port'), ('eta', 'ate'), ('sob', 'bos'), ('brag', 'garb'), ('wad', 'daw'), ('gid', 'dig'), ('god', 'dog'), ('yap', 'pay'), ('net', 'ten'), ('etna', 'ante'), ('mad', 'dam'), ('span', 'naps'), ('reknit', 'tinker'), ('nil', 'lin'), ('avo', 'ova'), ('reviled', 'deliver'), ('doom', 'mood'), ('snaps', 'spans'), ('hop', 'poh'), ('tops', 'spot'), ('naps', 'span'), ('plug', 'gulp'), ('sway', 'yaws'), ('taps', 'spat'), ('debut', 'tubed'), ('spar', 'raps'), ('gan', 'nag'), ('tubed', 'debut'), ('fer', 'ref'), ('nuts', 'stun'), ('war', 'raw'), ('regna', 'anger'), ('spots', 'stops'), ('wot', 'tow'), ('loots', 'stool'), ('stob', 'bots'), ('retem', 'meter'), ('ti', 'it'), ('dog', 'god'), ('gnar', 'rang'), ('vat', 'tav'), ('agas', 'saga'), ('wap', 'paw'), ('swob', 'bows'), ('ref', 'fer'), ('nips', 'spin'), ('spiks', 'skips'), ('lab', 'bal'), ('pot', 'top'), ('mood', 'doom'), ('but', 'tub'), ('levins', 'snivel'), ('dah', 'had'), ('nona', 'anon'), ('ta', 'at'), ('yaw', 'way'), ('ser', 'res'), ('aider', 'redia'), ('gut', 'tug'), ('em', 'me'), ('draw', 'ward'), ('kips', 'spik'), ('snool', 'loons'), ('derat', 'tared'), ('wets', 'stew'), ('strips', 'spirts'), ('pets', 'step'), ('spat', 'taps'), ('stared', 'derats'), ('soda', 'ados'), ('sled', 'dels'), ('reified', 'deifier'), ('flog', 'golf'), ('drab', 'bard'), ('sun', 'nus'), ('lager', 'regal'), ('evil', 'live'), ('redips', 'spider'), ('spik', 'kips'), ('suber', 'rebus'), ('leer', 'reel'), ('dib', 'bid'), ('sports', 'strops'), ('pow', 'wop'), ('stria', 'airts'), ('tort', 'trot'), ('arum', 'mura'), ('timed', 'demit'), ('gum', 'mug'), ('dorp', 'prod'), ('gul', 'lug'), ('stop', 'pots'), ('laced', 'decal'), ('paw', 'wap'), ('warder', 'redraw'), ('ares', 'sera'), ('secret', 'terces'), ('tug', 'gut'), ('lion', 'noil'), ('xis', 'six'), ('puris', 'sirup'), ('rod', 'dor'), ('tons', 'snot'), ('spider', 'redips'), ('ervil', 'livre'), ('emir', 'rime'), ('stub', 'buts'), ('sward', 'draws'), ('repel', 'leper'), ('sima', 'amis'), ('am', 'ma'), ('cram', 'marc'), ('reel', 'leer'), ('at', 'ta'), ('strops', 'sports'), ('sexed', 'dexes'), ('na', 'an'), ('remit', 'timer'), ('strop', 'ports'), ('tenner', 'rennet'), ('shah', 'hahs'), ('fool', 'loof'), ('stime', 'emits'), ('rewarder', 'redrawer'), ('revel', 'lever'), ('bas', 'sab'), ('nib', 'bin'), ('dab', 'bad'), ('cud', 'duc'), ('denier', 'reined'), ('ados', 'soda'), ('sip', 'pis'), ('scram', 'marcs'), ('devil', 'lived'), ('mot', 'tom'), ('may', 'yam'), ('terces', 'secret'), ('deep', 'peed'), ('tool', 'loot'), ('snawed', 'dewans'), ('agenes', 'senega'), ('gad', 'dag'), ('is', 'si'), ('dub', 'bud'), ('ante', 'etna'), ('tinker', 'reknit'), ('tips', 'spit'), ('selah', 'hales'), ('warts', 'straw'), ('slit', 'tils'), ('relive', 'eviler'), ('mures', 'serum'), ('stag', 'gats'), ('wos', 'sow'), ('wans', 'snaw'), ('snip', 'pins'), ('gnus', 'sung'), ('tor', 'rot'), ('ten', 'net'), ('hales', 'selah'), ('eel', 'lee'), ('spin', 'nips'), ('doc', 'cod'), ('knaps', 'spank'), ('rime', 'emir'), ('dormin', 'nimrod'), ('saved', 'devas'), ('mural', 'larum'), ('avid', 'diva'), ('reward', 'drawer'), ('meter', 'retem'), ('strow', 'worts'), ('toons', 'snoot'), ('no', 'on'), ('swop', 'pows'), ('he', 'eh'), ('nod', 'don'), ('lares', 'seral'), ('gulp', 'plug'), ('an', 'na'), ('pan', 'nap'), ('rood', 'door'), ('sow', 'wos'), ('ova', 'avo'), ('ports', 'strop'), ('spans', 'snaps'), ('burg', 'grub'), ('ohm', 'mho'), ('tows', 'swot'), ('lied', 'deil'), ('sore', 'eros'), ('agar', 'raga'), ('lag', 'gal'), ('sung', 'gnus'), ('deke', 'eked'), ('marc', 'cram'), ('golf', 'flog'), ('etas', 'sate'), ('skua', 'auks'), ('ad', 'da'), ('sum', 'mus'), ('steel', 'leets'), ('reknits', 'stinker'), ('relit', 'tiler'), ('stum', 'muts'), ('animes', 'semina'), ('sirs', 'sris'), ('emits', 'stime'), ('snips', 'spins'), ('enol', 'lone'), ('rub', 'bur'), ('trow', 'wort'), ('gats', 'stag'), ('dag', 'gad'), ('eros', 'sore'), ('laded', 'dedal'), ('time', 'emit'), ('gal', 'lag'), ('dees', 'seed'), ('un', 'nu'), ('del', 'led'), ('nus', 'sun'), ('me', 'em'), ('hap', 'pah'), ('led', 'del'), ('ben', 'neb'), ('tam', 'mat'), ('sab', 'bas'), ('smart', 'trams'), ('tarps', 'sprat'), ('pac', 'cap'), ('bows', 'swob'), ('pools', 'sloop'), ('ho', 'oh'), ('las', 'sal'), ('deliver', 'reviled'), ('seep', 'pees'), ('oot', 'too'), ('spud', 'dups'), ('seracs', 'scares'), ('airts', 'stria'), ('gel', 'leg'), ('gelder', 'redleg'), ('steek', 'keets'), ('duc', 'cud'), ('so', 'os'), ('abut', 'tuba'), ('sod', 'dos'), ('tub', 'but'), ('defer', 'refed'), ('gib', 'big'), ('leek', 'keel'), ('struts', 'sturts'), ('lug', 'gul'), ('gals', 'slag'), ('dirts', 'strid'), ('slop', 'pols'), ('tag', 'gat'), ('pacer', 'recap'), ('ate', 'eta'), ('tew', 'wet'), ('leper', 'repel'), ('dialer', 'relaid'), ('yak', 'kay'), ('sned', 'dens'), ('spoons', 'snoops'), ('lobo', 'obol'), ('liar', 'rail'), ('cam', 'mac'), ('dam', 'mad'), ('sniper', 'repins'), ('yard', 'dray'), ('decal', 'laced'), ('solon', 'nolos'), ('mool', 'loom'), ('yaps', 'spay'), ('aril', 'lira'), ('was', 'saw'), ('shad', 'dahs'), ('deil', 'lied'), ('drib', 'bird'), ('bag', 'gab'), ('dim', 'mid'), ('sleeps', 'speels'), ('sub', 'bus'), ('tang', 'gnat'), ('slipup', 'pupils'), ('noil', 'lion'), ('sloid', 'diols'), ('snug', 'guns'), ('raga', 'agar'), ('trap', 'part'), ('tils', 'slit'), ('kay', 'yak'), ('peen', 'neep'), ('relaid', 'dialer'), ('seta', 'ates'), ('serum', 'mures'), ('wats', 'staw'), ('rat', 'tar'), ('rennet', 'tenner'), ('tide', 'edit'), ('lamina', 'animal'), ('speels', 'sleeps'), ('gam', 'mag'), ('retool', 'looter'), ('re', 'er'), ('rebus', 'suber'), ('stinker', 'reknits'), ('dom', 'mod'), ('gums', 'smug'), ('tom', 'mot'), ('semina', 'animes'), ('pal', 'lap'), ('meed', 'deem'), ('ah', 'ha'), ('hoop', 'pooh'), ('step', 'pets'), ('elide', 'edile'), ('tab', 'bat'), ('duo', 'oud'), ('shales', 'selahs'), ('tao', 'oat'), ('peek', 'keep'), ('peels', 'sleep'), ('bun', 'nub'), ('trams', 'smart'), ('timer', 'remit'), ('regal', 'lager'), ('emit', 'time'), ('pooh', 'hoop'), ('seeks', 'skees'), ('gip', 'pig'), ('oud', 'duo'), ('maes', 'seam'), ('poh', 'hop'), ('wo', 'ow'), ('gnat', 'tang'), ('par', 'rap'), ('mod', 'dom'), ('bed', 'deb'), ('worts', 'strow'), ('spit', 'tips'), ('keels', 'sleek'), ('sup', 'pus'), ('amis', 'sima'), ('seer', 'rees'), ('stops', 'spots'), ('mined', 'denim'), ('prod', 'dorp'), ('os', 'so'), ('ducs', 'scud'), ('rats', 'star'), ('refed', 'defer'), ('anon', 'nona'), ('spools', 'sloops'), ('oat', 'tao'), ('auks', 'skua'), ('mho', 'ohm'), ('trot', 'tort'), ('pins', 'snip'), ('ha', 'ah'), ('animal', 'lamina'), ('star', 'rats'), ('not', 'ton'), ('seel', 'lees'), ('slug', 'guls'), ('parts', 'strap'), ('dig', 'gid'), ('gnats', 'stang'), ('grub', 'burg'), ('anger', 'regna'), ('deeps', 'speed'), ('ton', 'not'), ('oh', 'ho'), ('delf', 'fled'), ('subah', 'habus'), ('raps', 'spar'), ('nub', 'bun'), ('stew', 'wets'), ('pots', 'stop'), ('emes', 'seme'), ('rank', 'knar'), ('eat', 'tae'), ('reined', 'denier'), ('loom', 'mool'), ('rebut', 'tuber'), ('spacer', 'recaps'), ('rap', 'par'), ('steeks', 'skeets'), ('dos', 'sod'), ('wed', 'dew'), ('skips', 'spiks'), ('wort', 'trow'), ('slag', 'gals'), ('sleep', 'peels'), ('scam', 'macs'), ('rim', 'mir'), ('lira', 'aril'), ('swap', 'paws'), ('eked', 'deke'), ('pat', 'tap'), ('leg', 'gel'), ('moot', 'toom'), ('stang', 'gnats'), ('pus', 'sup'), ('snivel', 'levins'), ('stows', 'swots'), ('telfer', 'reflet'), ('keel', 'leek'), ('bog', 'gob'), ('sap', 'pas'), ('jar', 'raj'), ('bid', 'dib'), ('tuber', 'rebut'), ('pah', 'hap'), ('neep', 'peen'), ('sal', 'las'), ('sloop', 'pools'), ('pols', 'slop'), ('snaw', 'wans'), ('yaws', 'sway'), ('mid', 'dim'), ('put', 'tup'), ('snoop', 'poons'), ('speed', 'deeps'), ('mon', 'nom'), ('raw', 'war'), ('nolos', 'solon'), ('deem', 'meed'), ('si', 'is'), ('bats', 'stab'), ('pig', 'gip'), ('yah', 'hay'), ('dedal', 'laded'), ('wop', 'pow'), ('ay', 'ya'), ('elides', 'sedile'), ('prat', 'tarp'), ('lived', 'devil'), ('tap', 'pat'), ('ya', 'ay'), ('desserts', 'stressed'), ('ajar', 'raja'), ('yeh', 'hey'), ('lone', 'enol'), ('lap', 'pal'), ('lever', 'revel'), ('habus', 'subah'), ('ranid', 'dinar'), ('swots', 'stows'), ('dew', 'wed'), ('pud', 'dup'), ('redleg', 'gelder'), ('taw', 'wat'), ('tog', 'got'), ('reflow', 'wolfer'), ('ban', 'nab'), ('wolf', 'flow'), ('it', 'ti'), ('alif', 'fila'), ('mis', 'sim'), ('don', 'nod'), ('too', 'oot'), ('knits', 'stink'), ('keets', 'steek'), ('loop', 'pool'), ('spins', 'snips'), ('denies', 'seined'), ('part', 'trap'), ('bat', 'tab'), ('now', 'won'), ('mart', 'tram'), ('da', 'ad'), ('strap', 'parts'), ('diaper', 'repaid'), ('duel', 'leud'), ('saw', 'was'), ('serif', 'fires'), ('stoped', 'depots'), ('seined', 'denies'), ('won', 'now'), ('pals', 'slap'), ('marcs', 'scram'), ('bad', 'dab'), ('dray', 'yard'), ('buns', 'snub'), ('spank', 'knaps'), ('per', 'rep'), ('diva', 'avid'), ('ergo', 'ogre'), ('ow', 'wo'), ('muts', 'stum'), ('leets', 'steel'), ('od', 'do'), ('seed', 'dees'), ('deifier', 'reified'), ('laid', 'dial'), ('drail', 'liard'), ('obol', 'lobo'), ('wots', 'stow'), ('sprits', 'stirps'), ('yam', 'may'), ('hahs', 'shah'), ('rang', 'gnar'), ('tarp', 'prat'), ('maws', 'swam'), ('tis', 'sit'), ('swam', 'maws'), ('pas', 'sap'), ('tar', 'rat'), ('sprat', 'tarps'), ('devas', 'saved'), ('snib', 'bins'), ('nos', 'son'), ('top', 'pot'), ('draws', 'sward'), ('strid', 'dirts'), ('dexes', 'sexed'), ('res', 'ser'), ('mag', 'gam'), ('son', 'nos'), ('snoot', 'toons'), ('teem', 'meet'), ('demit', 'timed'), ('tow', 'wot'), ('gar', 'rag'), ('sturts', 'struts'), ('sallets', 'stellas'), ('dap', 'pad'), ('diols', 'sloid'), ('era', 'are'), ('degami', 'imaged'), ('liard', 'drail'), ('big', 'gib'), ('are', 'era'), ('tod', 'dot'), ('flow', 'wolf'), ('swang', 'gnaws'), ('wons', 'snow'), ('sleets', 'steels'), ('dessert', 'tressed'), ('recap', 'pacer'), ('skeets', 'steeks'), ('skees', 'seeks'), ('gnaws', 'swang'), ('tun', 'nut'), ('burd', 'drub'), ('fila', 'alif'), ('snit', 'tins'), ('senega', 'agenes'), ('lin', 'nil'), ('map', 'pam'), ('tip', 'pit'), ('selahs', 'shales'), ('arris', 'sirra'), ('dor', 'rod'), ('knar', 'rank'), ('gob', 'bog'), ('depots', 'stoped'), ('mar', 'ram'), ('slim', 'mils'), ('tup', 'put'), ('toom', 'moot'), ('mils', 'slim'), ('notes', 'seton'), ('hay', 'yah'), ('eviler', 'relive'), ('smug', 'gums'), ('sib', 'bis'), ('way', 'yaw'), ('spas', 'saps'), ('on', 'no'), ('do', 'od'), ('rot', 'tor'), ('tuba', 'abut'), ('brad', 'darb'), ('dups', 'spud'), ('toped', 'depot'), ('tin', 'nit'), ('mat', 'tam'), ('dens', 'sned'), ('scares', 'seracs'), ('nag', 'gan'), ('teg', 'get'), ('girt', 'trig'), ('seral', 'lares'), ('tav', 'vat'), ('tae', 'eat'), ('teemer', 'remeet'), ('straw', 'warts'), ('sera', 'ares'), ('dial', 'laid'), ('hey', 'yeh'), ('tas', 'sat'), ('snub', 'buns'), ('trig', 'girt'), ('bos', 'sob'), ('taws', 'swat'), ('sotol', 'lotos'), ('nip', 'pin'), ('lee', 'eel'), ('derats', 'stared'), ('mura', 'arum'), ('fled', 'delf'), ('raja', 'ajar'), ('bots', 'stob'), ('bal', 'lab'), ('stellas', 'sallets'), ('snow', 'wons'), ('moor', 'room'), ('seven', 'neves'), ('sit', 'tis'), ('snap', 'pans'), ('garb', 'brag'), ('yar', 'ray'), ('neves', 'seven'), ('loof', 'fool'), ('serac', 'cares'), ('bud', 'dub'), ('nu', 'un'), ('loops', 'spool'), ('pupils', 'slipup'), ('spot', 'tops'), ('recaps', 'spacer'), ('deb', 'bed'), ('spool', 'loops'), ('wet', 'tew'), ('tins', 'snit'), ('pay', 'yap'), ('rag', 'gar'), ('meet', 'teem'), ('repaid', 'diaper'), ('redraw', 'warder'), ('bins', 'snib'), ('imaged', 'degami'), ('saps', 'spas'), ('daw', 'wad'), ('trips', 'spirt'), ('six', 'xis'), ('room', 'moor'), ('pit', 'tip'), ('ward', 'draw'), ('edile', 'elide'), ('guls', 'slug'), ('paws', 'swap'), ('dewans', 'snawed'), ('shoo', 'oohs'), ('slab', 'bals'), ('pol', 'lop'), ('stirps', 'sprits'), ('sim', 'mis'), ('spirt', 'trips'), ('wolfer', 'reflow'), ('laud', 'dual'), ('edit', 'tide'), ('buts', 'stub'), ('redrawer', 'rewarder'), ('dahs', 'shad'), ('lit', 'til'), ('sloops', 'spools'), ('staw', 'wats'), ('stressed', 'desserts'), ('stums', 'smuts'), ('pis', 'sip'), ('cod', 'doc'), ('spirts', 'strips'), ('swat', 'taws'), ('deer', 'reed'), ('stink', 'knits'), ('amen', 'nema'), ('cares', 'serac'), ('lees', 'seel'), ('larum', 'mural'), ('mus', 'sum'), ('seder', 'redes'), ('sat', 'tas'), ('pam', 'map'), ('macs', 'scam'), ('had', 'dah'), ('stab', 'bats'), ('tiler', 'relit'), ('wat', 'taw'), ('dual', 'laud'), ('gas', 'sag'), ('dup', 'pud'), ('saga', 'agas'), ('bals', 'slab'), ('slap', 'pals'), ('swot', 'tows'), ('lop', 'pol'), ('repins', 'sniper'), ('snoops', 'spoons'), ('cap', 'pac'), ('ram', 'mar'), ('sris', 'sirs'), ('ates', 'seta'), ('swans', 'snaws'), ('tared', 'derat'), ('loons', 'snool'), ('smuts', 'stums'), ('eh', 'he'), ('pin', 'nip'), ('live', 'evil'), ('new', 'wen'), ('raj', 'jar'), ('rep', 'per'), ('sirup', 'puris'), ('snaws', 'swans')}\n"
     ]
    }
   ],
   "source": [
    "heteropalindromes()"
   ]
  }
 ],
 "metadata": {
  "kernelspec": {
   "display_name": "Python 3",
   "language": "python",
   "name": "python3"
  },
  "language_info": {
   "codemirror_mode": {
    "name": "ipython",
    "version": 3
   },
   "file_extension": ".py",
   "mimetype": "text/x-python",
   "name": "python",
   "nbconvert_exporter": "python",
   "pygments_lexer": "ipython3",
   "version": "3.10.13"
  }
 },
 "nbformat": 4,
 "nbformat_minor": 2
}
