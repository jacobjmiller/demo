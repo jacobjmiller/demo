{
 "cells": [
  {
   "cell_type": "code",
   "execution_count": 19,
   "metadata": {},
   "outputs": [],
   "source": [
    "def anagrams(input_string):\n",
    "\n",
    "    def histogram(word):\n",
    "\n",
    "        \"\"\" \n",
    "        input is a list of strings and function returns a dictionary with each string \n",
    "        being a key and the values being number of times they appear in the list\n",
    "        \"\"\"\n",
    "    \n",
    "        number_dict = dict()\n",
    "\n",
    "        for letter in word:\n",
    "            if word.count(letter) > 1:\n",
    "                number_dict[letter] = word.count(letter)\n",
    "            else:\n",
    "                number_dict[letter] = 1\n",
    "\n",
    "        return number_dict\n",
    "\n",
    "    read_file = open('words.txt')\n",
    "    write_file = open('output.txt', 'w')\n",
    "\n",
    "    for line in read_file:\n",
    "\n",
    "        line = line.strip()\n",
    "\n",
    "        if histogram(input_string) == histogram(line):\n",
    "\n",
    "            write_file.write(line + \"\\n\")\n",
    "    \n",
    "        else:\n",
    "            continue"
   ]
  },
  {
   "cell_type": "code",
   "execution_count": 20,
   "metadata": {},
   "outputs": [],
   "source": [
    "anagrams(\"greater\")"
   ]
  }
 ],
 "metadata": {
  "kernelspec": {
   "display_name": "Python 3",
   "language": "python",
   "name": "python3"
  },
  "language_info": {
   "codemirror_mode": {
    "name": "ipython",
    "version": 3
   },
   "file_extension": ".py",
   "mimetype": "text/x-python",
   "name": "python",
   "nbconvert_exporter": "python",
   "pygments_lexer": "ipython3",
   "version": "3.10.13"
  }
 },
 "nbformat": 4,
 "nbformat_minor": 2
}
