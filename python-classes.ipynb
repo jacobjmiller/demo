{
 "cells": [
  {
   "cell_type": "markdown",
   "metadata": {},
   "source": [
    "* A list is an example of a class\n",
    "* Variable is an object in python"
   ]
  },
  {
   "cell_type": "markdown",
   "metadata": {},
   "source": [
    "Objectives:\n",
    "\n",
    "* What is a class\n",
    "* How we implement a class\n",
    "* Attribute and method of a class"
   ]
  },
  {
   "cell_type": "code",
   "execution_count": 5,
   "metadata": {},
   "outputs": [],
   "source": [
    "a=[-1,0,1]"
   ]
  },
  {
   "cell_type": "code",
   "execution_count": 6,
   "metadata": {},
   "outputs": [
    {
     "name": "stdout",
     "output_type": "stream",
     "text": [
      "<class 'list'>\n"
     ]
    }
   ],
   "source": [
    "print(type(a))"
   ]
  },
  {
   "cell_type": "code",
   "execution_count": 7,
   "metadata": {},
   "outputs": [
    {
     "data": {
      "text/plain": [
       "-1"
      ]
     },
     "execution_count": 7,
     "metadata": {},
     "output_type": "execute_result"
    }
   ],
   "source": [
    "a.pop(0)"
   ]
  },
  {
   "cell_type": "code",
   "execution_count": 8,
   "metadata": {},
   "outputs": [
    {
     "name": "stdout",
     "output_type": "stream",
     "text": [
      "[0, 1]\n"
     ]
    }
   ],
   "source": [
    "print(a)"
   ]
  },
  {
   "cell_type": "markdown",
   "metadata": {},
   "source": [
    "* Class: tool to create data structures\n",
    "    * Bundle together our data with functions to then manipulate our data"
   ]
  },
  {
   "cell_type": "code",
   "execution_count": 10,
   "metadata": {},
   "outputs": [],
   "source": [
    "import numpy as np\n",
    "import matplotlib.pyplot as plt"
   ]
  },
  {
   "cell_type": "code",
   "execution_count": 11,
   "metadata": {},
   "outputs": [],
   "source": [
    "# Customer data\n",
    "# For every customer we ahve the number of minutes they spent on our website over the course of a week\n",
    "\n",
    "num_customers = 5\n",
    "\n",
    "# data1 = np.random.choice\n",
    "\n",
    "data2 = np.random.randint(0,30, (num_customers, 7))"
   ]
  },
  {
   "cell_type": "code",
   "execution_count": 12,
   "metadata": {},
   "outputs": [
    {
     "name": "stdout",
     "output_type": "stream",
     "text": [
      "[[ 3 27 14 11 11  9  7]\n",
      " [ 4  1 10 11  6 23 17]\n",
      " [ 1  0  4 23 13 13 28]\n",
      " [17  6 16  3 29 21  4]\n",
      " [26 24  3 20  9 17  7]]\n"
     ]
    }
   ],
   "source": [
    "print(data2)"
   ]
  },
  {
   "cell_type": "code",
   "execution_count": 22,
   "metadata": {},
   "outputs": [],
   "source": [
    "class CustomerData:\n",
    "    # First item we will set up in our class is an initialization function\n",
    "    # First input into a function defined inside a class is \"self\" (acts as a placeholder for what we will later on call a specific instance of our class)\n",
    "\n",
    "    def __init__(self, dataset):\n",
    "        self.data = dataset\n",
    "\n",
    "    def plot(self, customer_index):\n",
    "        row= self.data[customer_index]\n",
    "        plt.plot(row)\n",
    "        plt.show()"
   ]
  },
  {
   "cell_type": "code",
   "execution_count": 23,
   "metadata": {},
   "outputs": [],
   "source": [
    "Raising_Canes = CustomerData(data2)"
   ]
  },
  {
   "cell_type": "code",
   "execution_count": 24,
   "metadata": {},
   "outputs": [
    {
     "name": "stdout",
     "output_type": "stream",
     "text": [
      "<class '__main__.CustomerData'>\n"
     ]
    }
   ],
   "source": [
    "print(type(Raising_Canes))"
   ]
  },
  {
   "cell_type": "code",
   "execution_count": 25,
   "metadata": {},
   "outputs": [
    {
     "name": "stdout",
     "output_type": "stream",
     "text": [
      "[[ 3 27 14 11 11  9  7]\n",
      " [ 4  1 10 11  6 23 17]\n",
      " [ 1  0  4 23 13 13 28]\n",
      " [17  6 16  3 29 21  4]\n",
      " [26 24  3 20  9 17  7]]\n"
     ]
    }
   ],
   "source": [
    "print(Raising_Canes.data)"
   ]
  },
  {
   "cell_type": "code",
   "execution_count": 26,
   "metadata": {},
   "outputs": [
    {
     "data": {
      "image/png": "[encoded data removed]",
      "text/plain": [
       "<Figure size 640x480 with 1 Axes>"
      ]
     },
     "metadata": {},
     "output_type": "display_data"
    }
   ],
   "source": [
    "Raising_Canes.plot(1)"
   ]
  },
  {
   "cell_type": "code",
   "execution_count": 30,
   "metadata": {},
   "outputs": [],
   "source": [
    "num_players = 20\n",
    "\n",
    "prem_season_data = np.random.randint(0,5,(num_players, 38))\n",
    "\n"
   ]
  },
  {
   "cell_type": "code",
   "execution_count": null,
   "metadata": {},
   "outputs": [],
   "source": [
    "class PlayerData:\n",
    "    # First item we will set up in our class is an initialization function\n",
    "    # First input into a function defined inside a class is \"self\" (acts as a placeholder for what we will later on call a specific instance of our class)\n",
    "\n",
    "    def __init__(self, dataset):\n",
    "        self.data = dataset\n",
    "\n",
    "    def plot(self, customer_index):\n",
    "        row= self.data[customer_index]\n",
    "        plt.plot(row)\n",
    "        plt.show()"
   ]
  }
 ],
 "metadata": {
  "kernelspec": {
   "display_name": "Python 3",
   "language": "python",
   "name": "python3"
  },
  "language_info": {
   "codemirror_mode": {
    "name": "ipython",
    "version": 3
   },
   "file_extension": ".py",
   "mimetype": "text/x-python",
   "name": "python",
   "nbconvert_exporter": "python",
   "pygments_lexer": "ipython3",
   "version": "3.10.13"
  }
 },
 "nbformat": 4,
 "nbformat_minor": 2
}
