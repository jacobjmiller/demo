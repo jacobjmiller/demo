{
 "cells": [
  {
   "cell_type": "code",
   "execution_count": 1,
   "metadata": {},
   "outputs": [],
   "source": [
    "def CipherAlphabetList(cipher_alphabet):\n",
    "    \"\"\"\n",
    "    param string: a string the user enters for the encryption\n",
    "    return: a list of the string that was entered\n",
    "    \"\"\"\n",
    "    ValuesList = []\n",
    "    for C in cipher_alphabet:\n",
    "        if C not in ValuesList:\n",
    "            ValuesList.append(C)\n",
    "        else:\n",
    "            break\n",
    "    return ValuesList"
   ]
  },
  {
   "cell_type": "code",
   "execution_count": 3,
   "metadata": {},
   "outputs": [],
   "source": [
    "def ValididyOfKey(cipher_alphabet):\n",
    "    \"\"\"\n",
    "    param string: takes the string the user entered for the cypher alphabet\n",
    "    return: returns false or true based on if the alphabet was valid\n",
    "    \"\"\"\n",
    "\n",
    "    if len(cipher_alphabet) != 26:\n",
    "        return False\n",
    "\n",
    "    for letter in cipher_alphabet:\n",
    "        if cipher_alphabet.count(letter) > 1:\n",
    "            return False\n",
    "    \n",
    "    return True"
   ]
  },
  {
   "cell_type": "code",
   "execution_count": 4,
   "metadata": {},
   "outputs": [],
   "source": [
    "def WriteCipher(Encrypt_Dict_Upper, Encrypt_Dict_Lower, read_file, cipher_file):\n",
    "    \"\"\"\n",
    "    param1: encrypted dictionary for uppercase\n",
    "    param2: encrypted dictionary for lowercase\n",
    "    param3: text file that is read\n",
    "    param4: text file that is written in the encryption\n",
    "    return: returns the correct letters for the encryption and writes in the dictionary\n",
    "    \"\"\"\n",
    "    for line in read_file:\n",
    "        for character in line:\n",
    "            if character.isupper():\n",
    "                cipher_file.write(Encrypt_Dict_Upper[character])\n",
    "            elif character.islower():\n",
    "                cipher_file.write(Encrypt_Dict_Lower[character])\n",
    "            else:\n",
    "                cipher_file.write(character)"
   ]
  },
  {
   "cell_type": "code",
   "execution_count": 6,
   "metadata": {},
   "outputs": [],
   "source": [
    "def substitution_encrypt(plaintext_file, ciphertext_file, cipher_alphabet):\n",
    "    \"\"\"\n",
    "    param1: text file that is read\n",
    "    param2: text file that encrypted text is written to\n",
    "    param3: encrypted string\n",
    "    return: written encrypted version of the plaintext file using the cipher\n",
    "    \"\"\"\n",
    "    if ValididyOfKey(cipher_alphabet) == True:\n",
    "        LowerAlphabetList = ['a','b','c','d','e','f','g','h','i','j','k','l','m','n','o','p','q','r','s','t','u','v','w','x','y','z']\n",
    "        UpperAlphabetList = ['A','B','C','D','E','F','G','H','I','J','K','L','M','N','O','P','Q','R','S','T','U','V','W','X','Y','Z']\n",
    "        with open (plaintext_file,'r') as read_file:\n",
    "            with open(ciphertext_file, 'w') as cipher_file:\n",
    "                Encrypt_Dict_Lower = dict(zip(LowerAlphabetList,CipherAlphabetList(cipher_alphabet.lower())))\n",
    "                Encrypt_Dict_Upper = dict(zip(UpperAlphabetList,CipherAlphabetList(cipher_alphabet.upper())))\n",
    "                WriteCipher(Encrypt_Dict_Upper,Encrypt_Dict_Lower,read_file,cipher_file)\n"
   ]
  },
  {
   "cell_type": "code",
   "execution_count": 7,
   "metadata": {},
   "outputs": [],
   "source": [
    "def substitution_decrypt(ciphertext_file,plaintext_file,cipher_alphabet):\n",
    "    \"\"\"\n",
    "    return decrypted version of the encrypted cipher text file into plain text file\n",
    "    \"\"\"\n",
    "    if ValididyOfKey(cipher_alphabet) == True:\n",
    "        LowerAlphabetList = ['a','b','c','d','e','f','g','h','i','j','k','l','m','n','o','p','q','r','s','t','u','v','w','x','y','z']\n",
    "        UpperAlphabetList = ['A','B','C','D','E','F','G','H','I','J','K','L','M','N','O','P','Q','R','S','T','U','V','W','X','Y','Z']\n",
    "        with open (ciphertext_file,'r') as read_file:\n",
    "            with open(plaintext_file, 'w') as cipher_file:\n",
    "                Encrypt_Dict_Lower = dict(zip(CipherAlphabetList(cipher_alphabet.lower()),LowerAlphabetList))\n",
    "                Encrypt_Dict_Upper = dict(zip(CipherAlphabetList(cipher_alphabet.upper()),UpperAlphabetList))\n",
    "                WriteCipher(Encrypt_Dict_Upper,Encrypt_Dict_Lower,read_file,cipher_file)"
   ]
  },
  {
   "cell_type": "code",
   "execution_count": null,
   "metadata": {},
   "outputs": [],
   "source": [
    "def caesar_encrypt(plaintext_file, ciphertext_file, shift):\n",
    "    shift %= 26"
   ]
  },
  {
   "cell_type": "code",
   "execution_count": 8,
   "metadata": {},
   "outputs": [],
   "source": [
    "import sys"
   ]
  },
  {
   "cell_type": "code",
   "execution_count": 10,
   "metadata": {},
   "outputs": [],
   "source": [
    "def rot13_encrypt(plaintext_file, ciphertext_file):\n",
    "    \n",
    "    \"\"\"\n",
    "    Takes characters from a plain text file, encrypts it by shifting each character 13 places, \n",
    "    and writes it into a cipher text file\n",
    "    \"\"\"\n",
    "\n",
    "    lower_cipher_alphabet = 'abcdefghijklmnopqrstuvwxyz'\n",
    "\n",
    "    upper_cipher_alphabet = 'ABCDEFGHIJKLMNOPQRSTUVWXYZ'\n",
    "\n",
    "    encryptedtext = ''\n",
    "\n",
    "    with open('plaintext_file.txt', 'r') as plaintext_file:\n",
    "\n",
    "        with open('ciphertext_file.txt', 'w') as ciphertext_file:\n",
    "\n",
    "            for line in plaintext_file:\n",
    "                for character in line:\n",
    "                    if character in lower_cipher_alphabet:\n",
    "                        encryptedtext += lower_cipher_alphabet[(lower_cipher_alphabet.find(character)+13) % 26]\n",
    "                    elif character in upper_cipher_alphabet:\n",
    "                        encryptedtext += upper_cipher_alphabet[(upper_cipher_alphabet.find(character)+13) % 26]\n",
    "                    elif character not in upper_cipher_alphabet or lower_cipher_alphabet:    \n",
    "                        encryptedtext += character\n",
    "                    else:\n",
    "                        sys.exit()\n",
    "\n",
    "            ciphertext_file.write(encryptedtext)"
   ]
  },
  {
   "cell_type": "code",
   "execution_count": 11,
   "metadata": {},
   "outputs": [],
   "source": [
    "def rot13_decrypt(plaintext_file, ciphertext_file):\n",
    "    \n",
    "    \"\"\"\n",
    "    Takes characters from cipher text file, decrypts it by shifting each character 13 places, \n",
    "    and writes it into plain text file\n",
    "    \"\"\"\n",
    "\n",
    "    lower_cipher_alphabet = 'abcdefghijklmnopqrstuvwxyz'\n",
    "\n",
    "    upper_cipher_alphabet = 'ABCDEFGHIJKLMNOPQRSTUVWXYZ'\n",
    "\n",
    "    decryptedtext = ''\n",
    "\n",
    "    with open('plaintext_file.txt', 'w') as plaintext_file:\n",
    "\n",
    "        with open('ciphertext_file.txt', 'r') as ciphertext_file:\n",
    "\n",
    "            for line in ciphertext_file:\n",
    "                for character in line:\n",
    "                    if character in lower_cipher_alphabet:\n",
    "                        decryptedtext += lower_cipher_alphabet[(lower_cipher_alphabet.find(character)+13) % 26]\n",
    "                    elif character in upper_cipher_alphabet:\n",
    "                        decryptedtext += upper_cipher_alphabet[(upper_cipher_alphabet.find(character)+13) % 26]\n",
    "                    elif character not in upper_cipher_alphabet or lower_cipher_alphabet:    \n",
    "                        decryptedtext += character\n",
    "                    else:\n",
    "                        sys.exit()\n",
    "\n",
    "            plaintext_file.write(decryptedtext)"
   ]
  }
 ],
 "metadata": {
  "kernelspec": {
   "display_name": "Python 3",
   "language": "python",
   "name": "python3"
  },
  "language_info": {
   "codemirror_mode": {
    "name": "ipython",
    "version": 3
   },
   "file_extension": ".py",
   "mimetype": "text/x-python",
   "name": "python",
   "nbconvert_exporter": "python",
   "pygments_lexer": "ipython3",
   "version": "3.10.13"
  }
 },
 "nbformat": 4,
 "nbformat_minor": 2
}
