{
 "cells": [
  {
   "cell_type": "code",
   "execution_count": 11,
   "metadata": {},
   "outputs": [],
   "source": [
    "def histogram(string_list):\n",
    "\n",
    "    \"\"\" \n",
    "    input is a list of strings and function returns a dictionary with each string \n",
    "    being a key and the values being number of times they appear in the list\n",
    "    \"\"\"\n",
    "    \n",
    "    number_dict = dict()\n",
    "\n",
    "    for word in string_list:\n",
    "        if string_list.count(word) > 1:\n",
    "            number_dict[word] = string_list.count(word)\n",
    "        else:\n",
    "            number_dict[word] = 1\n",
    "\n",
    "    return number_dict\n",
    "        "
   ]
  },
  {
   "cell_type": "code",
   "execution_count": 12,
   "metadata": {},
   "outputs": [
    {
     "data": {
      "text/plain": [
       "{'word': 3, 'text': 1, 'string': 1}"
      ]
     },
     "execution_count": 12,
     "metadata": {},
     "output_type": "execute_result"
    }
   ],
   "source": [
    "histogram([\"word\",\"text\",\"word\",\"word\",\"string\"])"
   ]
  },
  {
   "cell_type": "code",
   "execution_count": 52,
   "metadata": {},
   "outputs": [],
   "source": [
    "def reverse_tuple(tuple_set1, tuple_set2):\n",
    "\n",
    "    \"\"\"\n",
    "    input is 2 tuples each with 2 ordered pairs and returns true if either tuple 1 or 2 has an\n",
    "    ordered pair with the same numbers in opposite positions and returns false if condition not met \n",
    "    \"\"\"\n",
    "\n",
    "    new_tuple_set = set()\n",
    "\n",
    "    for pair in tuple_set1:\n",
    "        new_tuple = pair[1],pair[0]\n",
    "        new_tuple_set.add(new_tuple)\n",
    "        for new_tuple in new_tuple_set:\n",
    "            if new_tuple in tuple_set2:\n",
    "                return True\n",
    "            else:\n",
    "                return False"
   ]
  },
  {
   "cell_type": "code",
   "execution_count": 55,
   "metadata": {},
   "outputs": [
    {
     "data": {
      "text/plain": [
       "True"
      ]
     },
     "execution_count": 55,
     "metadata": {},
     "output_type": "execute_result"
    }
   ],
   "source": [
    "reverse_tuple({(1, 2), (3, 4)}, {(2, 1), (5, 6)})"
   ]
  },
  {
   "cell_type": "code",
   "execution_count": 54,
   "metadata": {},
   "outputs": [
    {
     "data": {
      "text/plain": [
       "False"
      ]
     },
     "execution_count": 54,
     "metadata": {},
     "output_type": "execute_result"
    }
   ],
   "source": [
    "reverse_tuple({(1, 2), (3, 4)}, {(1, 2), (2, 3)})"
   ]
  }
 ],
 "metadata": {
  "kernelspec": {
   "display_name": "Python 3",
   "language": "python",
   "name": "python3"
  },
  "language_info": {
   "codemirror_mode": {
    "name": "ipython",
    "version": 3
   },
   "file_extension": ".py",
   "mimetype": "text/x-python",
   "name": "python",
   "nbconvert_exporter": "python",
   "pygments_lexer": "ipython3",
   "version": "3.10.13"
  }
 },
 "nbformat": 4,
 "nbformat_minor": 2
}
