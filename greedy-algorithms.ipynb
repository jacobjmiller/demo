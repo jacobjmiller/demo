{
 "cells": [
  {
   "cell_type": "code",
   "execution_count": 25,
   "metadata": {},
   "outputs": [],
   "source": [
    "def merged_string(s1,s2):\n",
    "    \"\"\"\n",
    "    Input: Two strings s1 and s2\n",
    "    Output: Returns the merged string using s1 and characters left over from s2\n",
    "    \"\"\"\n",
    "    s12 = \"\"\n",
    "    for current_overlap in range(1, min(len(s1), len(s2)+1)):\n",
    "        if s1[len(s1)-current_overlap:] == s2[:current_overlap]:\n",
    "            s12 = s1 + s2[current_overlap:]\n",
    "    return s12"
   ]
  },
  {
   "cell_type": "code",
   "execution_count": 26,
   "metadata": {},
   "outputs": [
    {
     "data": {
      "text/plain": [
       "'ABCDEFGHI'"
      ]
     },
     "execution_count": 26,
     "metadata": {},
     "output_type": "execute_result"
    }
   ],
   "source": [
    "merged_string(\"ABCDEFG\",\"CDEFGHI\")"
   ]
  },
  {
   "cell_type": "code",
   "execution_count": null,
   "metadata": {},
   "outputs": [],
   "source": [
    "def shortest_superstring(string_list):\n",
    "    while len(string_list) > 1:\n",
    "        merged_string = best_overlap(string_list)\n",
    "        \n"
   ]
  }
 ],
 "metadata": {
  "kernelspec": {
   "display_name": "Python 3",
   "language": "python",
   "name": "python3"
  },
  "language_info": {
   "codemirror_mode": {
    "name": "ipython",
    "version": 3
   },
   "file_extension": ".py",
   "mimetype": "text/x-python",
   "name": "python",
   "nbconvert_exporter": "python",
   "pygments_lexer": "ipython3",
   "version": "3.10.13"
  }
 },
 "nbformat": 4,
 "nbformat_minor": 2
}
