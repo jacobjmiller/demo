{
 "cells": [
  {
   "cell_type": "code",
   "execution_count": 6,
   "metadata": {},
   "outputs": [],
   "source": [
    "def overlap(s1,s2):\n",
    "    \"\"\"\n",
    "    Input: Two strings s1 and s2\n",
    "    Output: Returns the largest n for which the last n characters of s1 are equal to the first n characters of s2\n",
    "    \"\"\"\n",
    "    max_overlap = 0\n",
    "    current_overlap = 1\n",
    "    while current_overlap <= len(s1) and len(s2):\n",
    "        suffix = s1(current_overlap)\n",
    "        prefix = s2(current_overlap)\n",
    "        if suffix == prefix:\n",
    "            max_overlap = current_overlap\n",
    "    return max_overlap"
   ]
  },
  {
   "cell_type": "code",
   "execution_count": 7,
   "metadata": {},
   "outputs": [],
   "source": [
    "greedy_choice = (\",\",0)\n",
    "\n",
    "def greedy_overlap(string_list):\n",
    "    \"\"\"\n",
    "    Input: List of strings\n",
    "    Output: A triple (s1, s2, olap), where s1 and s2 are the strings from string_list with greatest possible overlap (called olap)\n",
    "    \"\"\"\n",
    "    for s1 in string_list:\n",
    "        for s2 in string_list:\n",
    "            if s1 != s2:\n",
    "                olap = overlap(s1,s2)\n",
    "                if olap > greedy_choice(3):\n",
    "                    greedy_choice = (s1,s2,olap)\n",
    "    return greedy_choice"
   ]
  },
  {
   "cell_type": "code",
   "execution_count": 8,
   "metadata": {},
   "outputs": [],
   "source": [
    "def merged_string(s1,s2):\n",
    "    merge = greedy_choice(s1) + greedy_choice(s2)\n",
    "    return merge"
   ]
  },
  {
   "cell_type": "code",
   "execution_count": 5,
   "metadata": {},
   "outputs": [],
   "source": [
    "def shortest_superstring(string_list):\n",
    "    \"\"\"\n",
    "    Input: List of strings\n",
    "    Output: Greedy approximation to shortest superstring problem for input list of strings\n",
    "    \"\"\"\n",
    "    while len(string_list) > 1:\n",
    "        overlap(string_list) == greedy_choice\n",
    "        merged_string\n",
    "        string_list.remove(s1,s2)\n",
    "        string_list.add(merged_string)\n",
    "    return string_list\n",
    "        "
   ]
  }
 ],
 "metadata": {
  "kernelspec": {
   "display_name": "Python 3",
   "language": "python",
   "name": "python3"
  },
  "language_info": {
   "codemirror_mode": {
    "name": "ipython",
    "version": 3
   },
   "file_extension": ".py",
   "mimetype": "text/x-python",
   "name": "python",
   "nbconvert_exporter": "python",
   "pygments_lexer": "ipython3",
   "version": "3.10.13"
  }
 },
 "nbformat": 4,
 "nbformat_minor": 2
}
