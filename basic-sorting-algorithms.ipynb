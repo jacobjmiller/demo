{
 "cells": [
  {
   "cell_type": "code",
   "execution_count": 53,
   "metadata": {},
   "outputs": [],
   "source": [
    "def improved_bubble_sort(arr, asc = True):\n",
    "    \"\"\"\n",
    "    :param arr: list of integers\n",
    "    :param asc: optional flag to sort in ascending order if True and descending if False\n",
    "    :return: sorts the entries of arr in ascending/descending order according to flag\n",
    "    \"\"\"\n",
    "    \n",
    "    length = len(arr)\n",
    "    if asc: # sort ascending\n",
    "        for iteration in range(length - 1):\n",
    "            flag = False\n",
    "            for loc in range(length - 1):\n",
    "                if arr[loc] > arr[loc + 1]:\n",
    "                    (arr[loc], arr[loc+1]) = (arr[loc+1], arr[loc]) # clean way to swap list entries\n",
    "            length -= 1\n",
    "\n",
    "\n",
    "    else: # sort descending\n",
    "        for iteration in range(length - 1):\n",
    "            flag = False\n",
    "            for loc in range(length - 1):\n",
    "                if arr[loc] < arr[loc + 1]:\n",
    "                    (arr[loc], arr[loc + 1]) = (arr[loc + 1], arr[loc]) # clean way to swap list entries\n",
    "            length -= 1\n",
    "        \n",
    "                    "
   ]
  },
  {
   "cell_type": "code",
   "execution_count": 54,
   "metadata": {},
   "outputs": [
    {
     "name": "stdout",
     "output_type": "stream",
     "text": [
      "[1, 2, 3, 4, 5]\n"
     ]
    }
   ],
   "source": [
    "test_arr = [5, 3, 4, 2, 1]\n",
    "improved_bubble_sort(test_arr)\n",
    "print(test_arr)"
   ]
  },
  {
   "cell_type": "code",
   "execution_count": 55,
   "metadata": {},
   "outputs": [
    {
     "name": "stdout",
     "output_type": "stream",
     "text": [
      "[5, 4, 3, 2, 1]\n"
     ]
    }
   ],
   "source": [
    "test_arr = [5, 3, 4, 2, 1]\n",
    "improved_bubble_sort(test_arr, False)\n",
    "print(test_arr)"
   ]
  }
 ],
 "metadata": {
  "kernelspec": {
   "display_name": "Python 3",
   "language": "python",
   "name": "python3"
  },
  "language_info": {
   "codemirror_mode": {
    "name": "ipython",
    "version": 3
   },
   "file_extension": ".py",
   "mimetype": "text/x-python",
   "name": "python",
   "nbconvert_exporter": "python",
   "pygments_lexer": "ipython3",
   "version": "3.10.13"
  }
 },
 "nbformat": 4,
 "nbformat_minor": 2
}
